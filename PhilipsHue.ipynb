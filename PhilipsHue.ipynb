{
 "cells": [
  {
   "cell_type": "markdown",
   "metadata": {},
   "source": [
    "# Philips Hue Lights\n",
    "This notebook demonstrates controlling Philips Hue lights from C#. First we need to add the `Q42.HueApi` nuget package and reference the namespaces."
   ]
  },
  {
   "cell_type": "code",
   "execution_count": 7,
   "metadata": {
    "dotnet_interactive": {
     "language": "csharp"
    },
    "polyglot_notebook": {
     "kernelName": "csharp"
    }
   },
   "outputs": [
    {
     "data": {
      "text/html": [
       "<div><div></div><div></div><div><strong>Installed Packages</strong><ul><li><span>Q42.HueApi, 3.23.0</span></li></ul></div></div>"
      ]
     },
     "metadata": {},
     "output_type": "display_data"
    }
   ],
   "source": [
    "#r \"nuget: Q42.HueApi\"\n",
    "\n",
    "// This is a simple example of how to use the Q42.HueApi library to interact with a Philips Hue bridge.\n",
    "using Q42.HueApi;\n",
    "using Q42.HueApi.Interfaces;\n",
    "using Q42.HueApi.Models.Bridge;\n",
    "\n",
    "// For notebook interactivity, you need to add a reference to the Microsoft.DotNet.Interactive package.\n",
    "using Microsoft.DotNet.Interactive;"
   ]
  },
  {
   "cell_type": "markdown",
   "metadata": {},
   "source": [
    "Next we need to connect to the Hue Bridge."
   ]
  },
  {
   "cell_type": "code",
   "execution_count": 5,
   "metadata": {
    "dotnet_interactive": {
     "language": "csharp"
    },
    "polyglot_notebook": {
     "kernelName": "csharp"
    }
   },
   "outputs": [
    {
     "name": "stdout",
     "output_type": "stream",
     "text": [
      "Bridge found at 10.0.4.129\r\n"
     ]
    }
   ],
   "source": [
    "IBridgeLocator locator = new HttpBridgeLocator();\n",
    "IEnumerable<LocatedBridge> bridges = await locator.LocateBridgesAsync(TimeSpan.FromSeconds(5));\n",
    "foreach (LocatedBridge bridge in bridges)\n",
    "{\n",
    "    Console.WriteLine($\"Bridge found at {bridge.IpAddress}\");\n",
    "}\n",
    "\n",
    "// Get the first bridge found\n",
    "LocatedBridge bridge = bridges.FirstOrDefault();"
   ]
  },
  {
   "cell_type": "markdown",
   "metadata": {},
   "source": [
    "We need to get the Hue Bridge `appKey`. For now, prompt for it, but this code should show an example of connecting to the bridge and pressing the button."
   ]
  },
  {
   "cell_type": "code",
   "execution_count": 10,
   "metadata": {
    "dotnet_interactive": {
     "language": "csharp"
    },
    "polyglot_notebook": {
     "kernelName": "csharp"
    }
   },
   "outputs": [],
   "source": [
    "var appKey = await Kernel.GetPasswordAsync(\"Enter the app key for the bridge\");"
   ]
  },
  {
   "cell_type": "markdown",
   "metadata": {},
   "source": [
    "Now we can set up a client to communicate with the bridge."
   ]
  },
  {
   "cell_type": "code",
   "execution_count": 12,
   "metadata": {
    "dotnet_interactive": {
     "language": "csharp"
    },
    "polyglot_notebook": {
     "kernelName": "csharp"
    }
   },
   "outputs": [],
   "source": [
    "    ILocalHueClient client = new LocalHueClient(bridge.IpAddress);\n",
    "    client.Initialize(appKey.GetClearTextPassword());"
   ]
  },
  {
   "cell_type": "markdown",
   "metadata": {},
   "source": [
    "## List all lights"
   ]
  },
  {
   "cell_type": "code",
   "execution_count": 13,
   "metadata": {
    "dotnet_interactive": {
     "language": "csharp"
    },
    "polyglot_notebook": {
     "kernelName": "csharp"
    }
   },
   "outputs": [
    {
     "data": {
      "text/html": [
       "<table><thead><tr><th><i>index</i></th><th>value</th></tr></thead><tbody><tr><td>0</td><td><details class=\"dni-treeview\"><summary><span class=\"dni-code-hint\"><code>{ Id = 1, ManufacturerName = Signify Netherlands B.V., ModelId = LCT016, Name = Rob&#39;s office, ProductId = Philips-LCT016-1-A19ECLv5, SoftwareVersion = 1.108.7, Type = Extended color light, Brightness = 254, Hue = 8632, On = True, Saturation = 117 }</code></span></summary><div><table><thead><tr></tr></thead><tbody><tr><td>Id</td><td><div class=\"dni-plaintext\"><pre>1</pre></div></td></tr><tr><td>ManufacturerName</td><td><div class=\"dni-plaintext\"><pre>Signify Netherlands B.V.</pre></div></td></tr><tr><td>ModelId</td><td><div class=\"dni-plaintext\"><pre>LCT016</pre></div></td></tr><tr><td>Name</td><td><div class=\"dni-plaintext\"><pre>Rob&#39;s office</pre></div></td></tr><tr><td>ProductId</td><td><div class=\"dni-plaintext\"><pre>Philips-LCT016-1-A19ECLv5</pre></div></td></tr><tr><td>SoftwareVersion</td><td><div class=\"dni-plaintext\"><pre>1.108.7</pre></div></td></tr><tr><td>Type</td><td><div class=\"dni-plaintext\"><pre>Extended color light</pre></div></td></tr><tr><td>Brightness</td><td><div class=\"dni-plaintext\"><pre>254</pre></div></td></tr><tr><td>Hue</td><td><div class=\"dni-plaintext\"><pre>8632</pre></div></td></tr><tr><td>On</td><td><div class=\"dni-plaintext\"><pre>True</pre></div></td></tr><tr><td>Saturation</td><td><div class=\"dni-plaintext\"><pre>117</pre></div></td></tr></tbody></table></div></details></td></tr><tr><td>1</td><td><details class=\"dni-treeview\"><summary><span class=\"dni-code-hint\"><code>{ Id = 2, ManufacturerName = Signify Netherlands B.V., ModelId = LCT016, Name = Family room, ProductId = Philips-LCT016-1-A19ECLv5, SoftwareVersion = 1.108.7, Type = Extended color light, Brightness = 77, Hue = 8417, On = True, Saturation = 140 }</code></span></summary><div><table><thead><tr></tr></thead><tbody><tr><td>Id</td><td><div class=\"dni-plaintext\"><pre>2</pre></div></td></tr><tr><td>ManufacturerName</td><td><div class=\"dni-plaintext\"><pre>Signify Netherlands B.V.</pre></div></td></tr><tr><td>ModelId</td><td><div class=\"dni-plaintext\"><pre>LCT016</pre></div></td></tr><tr><td>Name</td><td><div class=\"dni-plaintext\"><pre>Family room</pre></div></td></tr><tr><td>ProductId</td><td><div class=\"dni-plaintext\"><pre>Philips-LCT016-1-A19ECLv5</pre></div></td></tr><tr><td>SoftwareVersion</td><td><div class=\"dni-plaintext\"><pre>1.108.7</pre></div></td></tr><tr><td>Type</td><td><div class=\"dni-plaintext\"><pre>Extended color light</pre></div></td></tr><tr><td>Brightness</td><td><div class=\"dni-plaintext\"><pre>77</pre></div></td></tr><tr><td>Hue</td><td><div class=\"dni-plaintext\"><pre>8417</pre></div></td></tr><tr><td>On</td><td><div class=\"dni-plaintext\"><pre>True</pre></div></td></tr><tr><td>Saturation</td><td><div class=\"dni-plaintext\"><pre>140</pre></div></td></tr></tbody></table></div></details></td></tr><tr><td>2</td><td><details class=\"dni-treeview\"><summary><span class=\"dni-code-hint\"><code>{ Id = 3, ManufacturerName = Signify Netherlands B.V., ModelId = LCT012, Name = Rob&#39;s bedside light, ProductId = Philips-LCT012-1-E14ECLv1, SoftwareVersion = 1.108.7, Type = Extended color light, Brightness = 77, Hue = 8381, On = False, Saturation = 141 }</code></span></summary><div><table><thead><tr></tr></thead><tbody><tr><td>Id</td><td><div class=\"dni-plaintext\"><pre>3</pre></div></td></tr><tr><td>ManufacturerName</td><td><div class=\"dni-plaintext\"><pre>Signify Netherlands B.V.</pre></div></td></tr><tr><td>ModelId</td><td><div class=\"dni-plaintext\"><pre>LCT012</pre></div></td></tr><tr><td>Name</td><td><div class=\"dni-plaintext\"><pre>Rob&#39;s bedside light</pre></div></td></tr><tr><td>ProductId</td><td><div class=\"dni-plaintext\"><pre>Philips-LCT012-1-E14ECLv1</pre></div></td></tr><tr><td>SoftwareVersion</td><td><div class=\"dni-plaintext\"><pre>1.108.7</pre></div></td></tr><tr><td>Type</td><td><div class=\"dni-plaintext\"><pre>Extended color light</pre></div></td></tr><tr><td>Brightness</td><td><div class=\"dni-plaintext\"><pre>77</pre></div></td></tr><tr><td>Hue</td><td><div class=\"dni-plaintext\"><pre>8381</pre></div></td></tr><tr><td>On</td><td><div class=\"dni-plaintext\"><pre>False</pre></div></td></tr><tr><td>Saturation</td><td><div class=\"dni-plaintext\"><pre>141</pre></div></td></tr></tbody></table></div></details></td></tr><tr><td>3</td><td><details class=\"dni-treeview\"><summary><span class=\"dni-code-hint\"><code>{ Id = 4, ManufacturerName = Signify Netherlands B.V., ModelId = LCT016, Name = Pain Cave, ProductId = Philips-LCT016-1-A19ECLv5, SoftwareVersion = 1.108.7, Type = Extended color light, Brightness = 254, Hue = 8417, On = False, Saturation = 140 }</code></span></summary><div><table><thead><tr></tr></thead><tbody><tr><td>Id</td><td><div class=\"dni-plaintext\"><pre>4</pre></div></td></tr><tr><td>ManufacturerName</td><td><div class=\"dni-plaintext\"><pre>Signify Netherlands B.V.</pre></div></td></tr><tr><td>ModelId</td><td><div class=\"dni-plaintext\"><pre>LCT016</pre></div></td></tr><tr><td>Name</td><td><div class=\"dni-plaintext\"><pre>Pain Cave</pre></div></td></tr><tr><td>ProductId</td><td><div class=\"dni-plaintext\"><pre>Philips-LCT016-1-A19ECLv5</pre></div></td></tr><tr><td>SoftwareVersion</td><td><div class=\"dni-plaintext\"><pre>1.108.7</pre></div></td></tr><tr><td>Type</td><td><div class=\"dni-plaintext\"><pre>Extended color light</pre></div></td></tr><tr><td>Brightness</td><td><div class=\"dni-plaintext\"><pre>254</pre></div></td></tr><tr><td>Hue</td><td><div class=\"dni-plaintext\"><pre>8417</pre></div></td></tr><tr><td>On</td><td><div class=\"dni-plaintext\"><pre>False</pre></div></td></tr><tr><td>Saturation</td><td><div class=\"dni-plaintext\"><pre>140</pre></div></td></tr></tbody></table></div></details></td></tr><tr><td>4</td><td><details class=\"dni-treeview\"><summary><span class=\"dni-code-hint\"><code>{ Id = 5, ManufacturerName = Signify Netherlands B.V., ModelId = LCE001, Name = Juliette&#39;s bedside light, ProductId = Philips-LCE001-1-E12ECLv2, SoftwareVersion = 1.104.2, Type = Extended color light, Brightness = 77, Hue = 8381, On = False, Saturation = 141 }</code></span></summary><div><table><thead><tr></tr></thead><tbody><tr><td>Id</td><td><div class=\"dni-plaintext\"><pre>5</pre></div></td></tr><tr><td>ManufacturerName</td><td><div class=\"dni-plaintext\"><pre>Signify Netherlands B.V.</pre></div></td></tr><tr><td>ModelId</td><td><div class=\"dni-plaintext\"><pre>LCE001</pre></div></td></tr><tr><td>Name</td><td><div class=\"dni-plaintext\"><pre>Juliette&#39;s bedside light</pre></div></td></tr><tr><td>ProductId</td><td><div class=\"dni-plaintext\"><pre>Philips-LCE001-1-E12ECLv2</pre></div></td></tr><tr><td>SoftwareVersion</td><td><div class=\"dni-plaintext\"><pre>1.104.2</pre></div></td></tr><tr><td>Type</td><td><div class=\"dni-plaintext\"><pre>Extended color light</pre></div></td></tr><tr><td>Brightness</td><td><div class=\"dni-plaintext\"><pre>77</pre></div></td></tr><tr><td>Hue</td><td><div class=\"dni-plaintext\"><pre>8381</pre></div></td></tr><tr><td>On</td><td><div class=\"dni-plaintext\"><pre>False</pre></div></td></tr><tr><td>Saturation</td><td><div class=\"dni-plaintext\"><pre>141</pre></div></td></tr></tbody></table></div></details></td></tr><tr><td>5</td><td><details class=\"dni-treeview\"><summary><span class=\"dni-code-hint\"><code>{ Id = 6, ManufacturerName = Signify Netherlands B.V., ModelId = LCA005, Name = Living room lamp, ProductId = Philips-LCA005-1-A19ECLv7, SoftwareVersion = 1.104.2, Type = Extended color light, Brightness = 143, Hue = 7726, On = True, Saturation = 197 }</code></span></summary><div><table><thead><tr></tr></thead><tbody><tr><td>Id</td><td><div class=\"dni-plaintext\"><pre>6</pre></div></td></tr><tr><td>ManufacturerName</td><td><div class=\"dni-plaintext\"><pre>Signify Netherlands B.V.</pre></div></td></tr><tr><td>ModelId</td><td><div class=\"dni-plaintext\"><pre>LCA005</pre></div></td></tr><tr><td>Name</td><td><div class=\"dni-plaintext\"><pre>Living room lamp</pre></div></td></tr><tr><td>ProductId</td><td><div class=\"dni-plaintext\"><pre>Philips-LCA005-1-A19ECLv7</pre></div></td></tr><tr><td>SoftwareVersion</td><td><div class=\"dni-plaintext\"><pre>1.104.2</pre></div></td></tr><tr><td>Type</td><td><div class=\"dni-plaintext\"><pre>Extended color light</pre></div></td></tr><tr><td>Brightness</td><td><div class=\"dni-plaintext\"><pre>143</pre></div></td></tr><tr><td>Hue</td><td><div class=\"dni-plaintext\"><pre>7726</pre></div></td></tr><tr><td>On</td><td><div class=\"dni-plaintext\"><pre>True</pre></div></td></tr><tr><td>Saturation</td><td><div class=\"dni-plaintext\"><pre>197</pre></div></td></tr></tbody></table></div></details></td></tr><tr><td>6</td><td><details class=\"dni-treeview\"><summary><span class=\"dni-code-hint\"><code>{ Id = 7, ManufacturerName = Signify Netherlands B.V., ModelId = LCA002, Name = Front hall lamp, ProductId = Philips-LCA002-4-A19ECLv6, SoftwareVersion = 1.104.2, Type = Extended color light, Brightness = 143, Hue = 7726, On = True, Saturation = 197 }</code></span></summary><div><table><thead><tr></tr></thead><tbody><tr><td>Id</td><td><div class=\"dni-plaintext\"><pre>7</pre></div></td></tr><tr><td>ManufacturerName</td><td><div class=\"dni-plaintext\"><pre>Signify Netherlands B.V.</pre></div></td></tr><tr><td>ModelId</td><td><div class=\"dni-plaintext\"><pre>LCA002</pre></div></td></tr><tr><td>Name</td><td><div class=\"dni-plaintext\"><pre>Front hall lamp</pre></div></td></tr><tr><td>ProductId</td><td><div class=\"dni-plaintext\"><pre>Philips-LCA002-4-A19ECLv6</pre></div></td></tr><tr><td>SoftwareVersion</td><td><div class=\"dni-plaintext\"><pre>1.104.2</pre></div></td></tr><tr><td>Type</td><td><div class=\"dni-plaintext\"><pre>Extended color light</pre></div></td></tr><tr><td>Brightness</td><td><div class=\"dni-plaintext\"><pre>143</pre></div></td></tr><tr><td>Hue</td><td><div class=\"dni-plaintext\"><pre>7726</pre></div></td></tr><tr><td>On</td><td><div class=\"dni-plaintext\"><pre>True</pre></div></td></tr><tr><td>Saturation</td><td><div class=\"dni-plaintext\"><pre>197</pre></div></td></tr></tbody></table></div></details></td></tr></tbody></table><style>\r\n",
       ".dni-code-hint {\r\n",
       "    font-style: italic;\r\n",
       "    overflow: hidden;\r\n",
       "    white-space: nowrap;\r\n",
       "}\r\n",
       ".dni-treeview {\r\n",
       "    white-space: nowrap;\r\n",
       "}\r\n",
       ".dni-treeview td {\r\n",
       "    vertical-align: top;\r\n",
       "    text-align: start;\r\n",
       "}\r\n",
       "details.dni-treeview {\r\n",
       "    padding-left: 1em;\r\n",
       "}\r\n",
       "table td {\r\n",
       "    text-align: start;\r\n",
       "}\r\n",
       "table tr { \r\n",
       "    vertical-align: top; \r\n",
       "    margin: 0em 0px;\r\n",
       "}\r\n",
       "table tr td pre \r\n",
       "{ \r\n",
       "    vertical-align: top !important; \r\n",
       "    margin: 0em 0px !important;\r\n",
       "} \r\n",
       "table th {\r\n",
       "    text-align: start;\r\n",
       "}\r\n",
       "</style>"
      ]
     },
     "metadata": {},
     "output_type": "display_data"
    }
   ],
   "source": [
    "var result = await client.GetLightsAsync();\n",
    "var lights = result.Select(l => new {\n",
    "    l.Id, l.ManufacturerName, l.ModelId, l.Name, l.ProductId, l.SoftwareVersion, l.Type, l.State.Brightness, l.State.Hue, l.State.On, l.State.Saturation\n",
    "});\n",
    "\n",
    "lights"
   ]
  },
  {
   "cell_type": "markdown",
   "metadata": {},
   "source": [
    "## List all Rooms"
   ]
  },
  {
   "cell_type": "code",
   "execution_count": 14,
   "metadata": {
    "dotnet_interactive": {
     "language": "csharp"
    },
    "polyglot_notebook": {
     "kernelName": "csharp"
    }
   },
   "outputs": [
    {
     "data": {
      "text/html": [
       "<table><thead><tr><th><i>index</i></th><th>value</th></tr></thead><tbody><tr><td>0</td><td><details class=\"dni-treeview\"><summary><span class=\"dni-code-hint\"><code>{ Class = Office, Id = 1, Name = Office, Type = Room }</code></span></summary><div><table><thead><tr></tr></thead><tbody><tr><td>Class</td><td><span>Office</span></td></tr><tr><td>Id</td><td><div class=\"dni-plaintext\"><pre>1</pre></div></td></tr><tr><td>Name</td><td><div class=\"dni-plaintext\"><pre>Office</pre></div></td></tr><tr><td>Type</td><td><span>Room</span></td></tr></tbody></table></div></details></td></tr><tr><td>1</td><td><details class=\"dni-treeview\"><summary><span class=\"dni-code-hint\"><code>{ Class = Bedroom, Id = 2, Name = Bedroom, Type = Room }</code></span></summary><div><table><thead><tr></tr></thead><tbody><tr><td>Class</td><td><span>Bedroom</span></td></tr><tr><td>Id</td><td><div class=\"dni-plaintext\"><pre>2</pre></div></td></tr><tr><td>Name</td><td><div class=\"dni-plaintext\"><pre>Bedroom</pre></div></td></tr><tr><td>Type</td><td><span>Room</span></td></tr></tbody></table></div></details></td></tr><tr><td>2</td><td><details class=\"dni-treeview\"><summary><span class=\"dni-code-hint\"><code>{ Class = TV, Id = 3, Name = Family Room, Type = Room }</code></span></summary><div><table><thead><tr></tr></thead><tbody><tr><td>Class</td><td><span>TV</span></td></tr><tr><td>Id</td><td><div class=\"dni-plaintext\"><pre>3</pre></div></td></tr><tr><td>Name</td><td><div class=\"dni-plaintext\"><pre>Family Room</pre></div></td></tr><tr><td>Type</td><td><span>Room</span></td></tr></tbody></table></div></details></td></tr><tr><td>3</td><td><details class=\"dni-treeview\"><summary><span class=\"dni-code-hint\"><code>{ Class = TV, Id = 4, Name = Office Entertainment area, Type = Entertainment }</code></span></summary><div><table><thead><tr></tr></thead><tbody><tr><td>Class</td><td><span>TV</span></td></tr><tr><td>Id</td><td><div class=\"dni-plaintext\"><pre>4</pre></div></td></tr><tr><td>Name</td><td><div class=\"dni-plaintext\"><pre>Office Entertainment area</pre></div></td></tr><tr><td>Type</td><td><span>Entertainment</span></td></tr></tbody></table></div></details></td></tr><tr><td>4</td><td><details class=\"dni-treeview\"><summary><span class=\"dni-code-hint\"><code>{ Class = Garage, Id = 6, Name = Pain Cave, Type = Room }</code></span></summary><div><table><thead><tr></tr></thead><tbody><tr><td>Class</td><td><span>Garage</span></td></tr><tr><td>Id</td><td><div class=\"dni-plaintext\"><pre>6</pre></div></td></tr><tr><td>Name</td><td><div class=\"dni-plaintext\"><pre>Pain Cave</pre></div></td></tr><tr><td>Type</td><td><span>Room</span></td></tr></tbody></table></div></details></td></tr><tr><td>5</td><td><details class=\"dni-treeview\"><summary><span class=\"dni-code-hint\"><code>{ Class = TV, Id = 7, Name = Pain Cave, Type = Entertainment }</code></span></summary><div><table><thead><tr></tr></thead><tbody><tr><td>Class</td><td><span>TV</span></td></tr><tr><td>Id</td><td><div class=\"dni-plaintext\"><pre>7</pre></div></td></tr><tr><td>Name</td><td><div class=\"dni-plaintext\"><pre>Pain Cave</pre></div></td></tr><tr><td>Type</td><td><span>Entertainment</span></td></tr></tbody></table></div></details></td></tr><tr><td>6</td><td><details class=\"dni-treeview\"><summary><span class=\"dni-code-hint\"><code>{ Class = LivingRoom, Id = 9, Name = Living room, Type = Room }</code></span></summary><div><table><thead><tr></tr></thead><tbody><tr><td>Class</td><td><span>LivingRoom</span></td></tr><tr><td>Id</td><td><div class=\"dni-plaintext\"><pre>9</pre></div></td></tr><tr><td>Name</td><td><div class=\"dni-plaintext\"><pre>Living room</pre></div></td></tr><tr><td>Type</td><td><span>Room</span></td></tr></tbody></table></div></details></td></tr></tbody></table><style>\r\n",
       ".dni-code-hint {\r\n",
       "    font-style: italic;\r\n",
       "    overflow: hidden;\r\n",
       "    white-space: nowrap;\r\n",
       "}\r\n",
       ".dni-treeview {\r\n",
       "    white-space: nowrap;\r\n",
       "}\r\n",
       ".dni-treeview td {\r\n",
       "    vertical-align: top;\r\n",
       "    text-align: start;\r\n",
       "}\r\n",
       "details.dni-treeview {\r\n",
       "    padding-left: 1em;\r\n",
       "}\r\n",
       "table td {\r\n",
       "    text-align: start;\r\n",
       "}\r\n",
       "table tr { \r\n",
       "    vertical-align: top; \r\n",
       "    margin: 0em 0px;\r\n",
       "}\r\n",
       "table tr td pre \r\n",
       "{ \r\n",
       "    vertical-align: top !important; \r\n",
       "    margin: 0em 0px !important;\r\n",
       "} \r\n",
       "table th {\r\n",
       "    text-align: start;\r\n",
       "}\r\n",
       "</style>"
      ]
     },
     "metadata": {},
     "output_type": "display_data"
    }
   ],
   "source": [
    "var result = await client.GetGroupsAsync();\n",
    "var\trooms = result.Select(r => new {\n",
    "  r.Class, r.Id, r.Name, r.Type\n",
    "});\n",
    "\n",
    "rooms"
   ]
  },
  {
   "cell_type": "markdown",
   "metadata": {},
   "source": [
    "## List all Scenes"
   ]
  },
  {
   "cell_type": "code",
   "execution_count": 15,
   "metadata": {
    "dotnet_interactive": {
     "language": "csharp"
    },
    "polyglot_notebook": {
     "kernelName": "csharp"
    }
   },
   "outputs": [
    {
     "data": {
      "text/html": [
       "<table><thead><tr><th><i>index</i></th><th>value</th></tr></thead><tbody><tr><td>0</td><td><details class=\"dni-treeview\"><summary><span class=\"dni-code-hint\"><code>{ Id = d80Jv1Kapbzv1BZ, Name = Savanna sunset, TransitionTime = , LightStates = , Lights = System.Collections.Generic.List`1[System.String] }</code></span></summary><div><table><thead><tr></tr></thead><tbody><tr><td>Id</td><td><div class=\"dni-plaintext\"><pre>d80Jv1Kapbzv1BZ</pre></div></td></tr><tr><td>Name</td><td><div class=\"dni-plaintext\"><pre>Savanna sunset</pre></div></td></tr><tr><td>TransitionTime</td><td><div class=\"dni-plaintext\"><pre>&lt;null&gt;</pre></div></td></tr><tr><td>LightStates</td><td><div class=\"dni-plaintext\"><pre>&lt;null&gt;</pre></div></td></tr><tr><td>Lights</td><td><div class=\"dni-plaintext\"><pre>[ 1 ]</pre></div></td></tr></tbody></table></div></details></td></tr><tr><td>1</td><td><details class=\"dni-treeview\"><summary><span class=\"dni-code-hint\"><code>{ Id = uvL5BDnbktZchZN, Name = Tropical twilight, TransitionTime = , LightStates = , Lights = System.Collections.Generic.List`1[System.String] }</code></span></summary><div><table><thead><tr></tr></thead><tbody><tr><td>Id</td><td><div class=\"dni-plaintext\"><pre>uvL5BDnbktZchZN</pre></div></td></tr><tr><td>Name</td><td><div class=\"dni-plaintext\"><pre>Tropical twilight</pre></div></td></tr><tr><td>TransitionTime</td><td><div class=\"dni-plaintext\"><pre>&lt;null&gt;</pre></div></td></tr><tr><td>LightStates</td><td><div class=\"dni-plaintext\"><pre>&lt;null&gt;</pre></div></td></tr><tr><td>Lights</td><td><div class=\"dni-plaintext\"><pre>[ 1 ]</pre></div></td></tr></tbody></table></div></details></td></tr><tr><td>2</td><td><details class=\"dni-treeview\"><summary><span class=\"dni-code-hint\"><code>{ Id = GnTwBmlwxNMxqfl, Name = Arctic aurora, TransitionTime = , LightStates = , Lights = System.Collections.Generic.List`1[System.String] }</code></span></summary><div><table><thead><tr></tr></thead><tbody><tr><td>Id</td><td><div class=\"dni-plaintext\"><pre>GnTwBmlwxNMxqfl</pre></div></td></tr><tr><td>Name</td><td><div class=\"dni-plaintext\"><pre>Arctic aurora</pre></div></td></tr><tr><td>TransitionTime</td><td><div class=\"dni-plaintext\"><pre>&lt;null&gt;</pre></div></td></tr><tr><td>LightStates</td><td><div class=\"dni-plaintext\"><pre>&lt;null&gt;</pre></div></td></tr><tr><td>Lights</td><td><div class=\"dni-plaintext\"><pre>[ 1 ]</pre></div></td></tr></tbody></table></div></details></td></tr><tr><td>3</td><td><details class=\"dni-treeview\"><summary><span class=\"dni-code-hint\"><code>{ Id = qA5eBFJbKj6nZB7, Name = Spring blossom, TransitionTime = , LightStates = , Lights = System.Collections.Generic.List`1[System.String] }</code></span></summary><div><table><thead><tr></tr></thead><tbody><tr><td>Id</td><td><div class=\"dni-plaintext\"><pre>qA5eBFJbKj6nZB7</pre></div></td></tr><tr><td>Name</td><td><div class=\"dni-plaintext\"><pre>Spring blossom</pre></div></td></tr><tr><td>TransitionTime</td><td><div class=\"dni-plaintext\"><pre>&lt;null&gt;</pre></div></td></tr><tr><td>LightStates</td><td><div class=\"dni-plaintext\"><pre>&lt;null&gt;</pre></div></td></tr><tr><td>Lights</td><td><div class=\"dni-plaintext\"><pre>[ 1 ]</pre></div></td></tr></tbody></table></div></details></td></tr><tr><td>4</td><td><details class=\"dni-treeview\"><summary><span class=\"dni-code-hint\"><code>{ Id = QZTrcc8FuP8WLK6, Name = Relax, TransitionTime = , LightStates = , Lights = System.Collections.Generic.List`1[System.String] }</code></span></summary><div><table><thead><tr></tr></thead><tbody><tr><td>Id</td><td><div class=\"dni-plaintext\"><pre>QZTrcc8FuP8WLK6</pre></div></td></tr><tr><td>Name</td><td><div class=\"dni-plaintext\"><pre>Relax</pre></div></td></tr><tr><td>TransitionTime</td><td><div class=\"dni-plaintext\"><pre>&lt;null&gt;</pre></div></td></tr><tr><td>LightStates</td><td><div class=\"dni-plaintext\"><pre>&lt;null&gt;</pre></div></td></tr><tr><td>Lights</td><td><div class=\"dni-plaintext\"><pre>[ 1 ]</pre></div></td></tr></tbody></table></div></details></td></tr><tr><td>5</td><td><details class=\"dni-treeview\"><summary><span class=\"dni-code-hint\"><code>{ Id = AO-LmKuY6y8C5Ou, Name = Read, TransitionTime = , LightStates = , Lights = System.Collections.Generic.List`1[System.String] }</code></span></summary><div><table><thead><tr></tr></thead><tbody><tr><td>Id</td><td><div class=\"dni-plaintext\"><pre>AO-LmKuY6y8C5Ou</pre></div></td></tr><tr><td>Name</td><td><div class=\"dni-plaintext\"><pre>Read</pre></div></td></tr><tr><td>TransitionTime</td><td><div class=\"dni-plaintext\"><pre>&lt;null&gt;</pre></div></td></tr><tr><td>LightStates</td><td><div class=\"dni-plaintext\"><pre>&lt;null&gt;</pre></div></td></tr><tr><td>Lights</td><td><div class=\"dni-plaintext\"><pre>[ 1 ]</pre></div></td></tr></tbody></table></div></details></td></tr><tr><td>6</td><td><details class=\"dni-treeview\"><summary><span class=\"dni-code-hint\"><code>{ Id = TBsAq0QKHQYgHuF, Name = Concentrate, TransitionTime = , LightStates = , Lights = System.Collections.Generic.List`1[System.String] }</code></span></summary><div><table><thead><tr></tr></thead><tbody><tr><td>Id</td><td><div class=\"dni-plaintext\"><pre>TBsAq0QKHQYgHuF</pre></div></td></tr><tr><td>Name</td><td><div class=\"dni-plaintext\"><pre>Concentrate</pre></div></td></tr><tr><td>TransitionTime</td><td><div class=\"dni-plaintext\"><pre>&lt;null&gt;</pre></div></td></tr><tr><td>LightStates</td><td><div class=\"dni-plaintext\"><pre>&lt;null&gt;</pre></div></td></tr><tr><td>Lights</td><td><div class=\"dni-plaintext\"><pre>[ 1 ]</pre></div></td></tr></tbody></table></div></details></td></tr><tr><td>7</td><td><details class=\"dni-treeview\"><summary><span class=\"dni-code-hint\"><code>{ Id = iJrpCuTvrSzylt1, Name = Energize, TransitionTime = , LightStates = , Lights = System.Collections.Generic.List`1[System.String] }</code></span></summary><div><table><thead><tr></tr></thead><tbody><tr><td>Id</td><td><div class=\"dni-plaintext\"><pre>iJrpCuTvrSzylt1</pre></div></td></tr><tr><td>Name</td><td><div class=\"dni-plaintext\"><pre>Energize</pre></div></td></tr><tr><td>TransitionTime</td><td><div class=\"dni-plaintext\"><pre>&lt;null&gt;</pre></div></td></tr><tr><td>LightStates</td><td><div class=\"dni-plaintext\"><pre>&lt;null&gt;</pre></div></td></tr><tr><td>Lights</td><td><div class=\"dni-plaintext\"><pre>[ 1 ]</pre></div></td></tr></tbody></table></div></details></td></tr><tr><td>8</td><td><details class=\"dni-treeview\"><summary><span class=\"dni-code-hint\"><code>{ Id = YtcSnNXboSV-wr5, Name = Bright, TransitionTime = , LightStates = , Lights = System.Collections.Generic.List`1[System.String] }</code></span></summary><div><table><thead><tr></tr></thead><tbody><tr><td>Id</td><td><div class=\"dni-plaintext\"><pre>YtcSnNXboSV-wr5</pre></div></td></tr><tr><td>Name</td><td><div class=\"dni-plaintext\"><pre>Bright</pre></div></td></tr><tr><td>TransitionTime</td><td><div class=\"dni-plaintext\"><pre>&lt;null&gt;</pre></div></td></tr><tr><td>LightStates</td><td><div class=\"dni-plaintext\"><pre>&lt;null&gt;</pre></div></td></tr><tr><td>Lights</td><td><div class=\"dni-plaintext\"><pre>[ 1 ]</pre></div></td></tr></tbody></table></div></details></td></tr><tr><td>9</td><td><details class=\"dni-treeview\"><summary><span class=\"dni-code-hint\"><code>{ Id = v5cvNQ04XQI7IKf, Name = Dimmed, TransitionTime = , LightStates = , Lights = System.Collections.Generic.List`1[System.String] }</code></span></summary><div><table><thead><tr></tr></thead><tbody><tr><td>Id</td><td><div class=\"dni-plaintext\"><pre>v5cvNQ04XQI7IKf</pre></div></td></tr><tr><td>Name</td><td><div class=\"dni-plaintext\"><pre>Dimmed</pre></div></td></tr><tr><td>TransitionTime</td><td><div class=\"dni-plaintext\"><pre>&lt;null&gt;</pre></div></td></tr><tr><td>LightStates</td><td><div class=\"dni-plaintext\"><pre>&lt;null&gt;</pre></div></td></tr><tr><td>Lights</td><td><div class=\"dni-plaintext\"><pre>[ 1 ]</pre></div></td></tr></tbody></table></div></details></td></tr><tr><td>10</td><td><details class=\"dni-treeview\"><summary><span class=\"dni-code-hint\"><code>{ Id = mThTlO2-kIS6VMQ, Name = Nightlight, TransitionTime = , LightStates = , Lights = System.Collections.Generic.List`1[System.String] }</code></span></summary><div><table><thead><tr></tr></thead><tbody><tr><td>Id</td><td><div class=\"dni-plaintext\"><pre>mThTlO2-kIS6VMQ</pre></div></td></tr><tr><td>Name</td><td><div class=\"dni-plaintext\"><pre>Nightlight</pre></div></td></tr><tr><td>TransitionTime</td><td><div class=\"dni-plaintext\"><pre>&lt;null&gt;</pre></div></td></tr><tr><td>LightStates</td><td><div class=\"dni-plaintext\"><pre>&lt;null&gt;</pre></div></td></tr><tr><td>Lights</td><td><div class=\"dni-plaintext\"><pre>[ 1 ]</pre></div></td></tr></tbody></table></div></details></td></tr><tr><td>11</td><td><details class=\"dni-treeview\"><summary><span class=\"dni-code-hint\"><code>{ Id = qrXT6feK8V5epQp, Name = Savanna sunset, TransitionTime = , LightStates = , Lights = System.Collections.Generic.List`1[System.String] }</code></span></summary><div><table><thead><tr></tr></thead><tbody><tr><td>Id</td><td><div class=\"dni-plaintext\"><pre>qrXT6feK8V5epQp</pre></div></td></tr><tr><td>Name</td><td><div class=\"dni-plaintext\"><pre>Savanna sunset</pre></div></td></tr><tr><td>TransitionTime</td><td><div class=\"dni-plaintext\"><pre>&lt;null&gt;</pre></div></td></tr><tr><td>LightStates</td><td><div class=\"dni-plaintext\"><pre>&lt;null&gt;</pre></div></td></tr><tr><td>Lights</td><td><div class=\"dni-plaintext\"><pre>[ 3, 5 ]</pre></div></td></tr></tbody></table></div></details></td></tr><tr><td>12</td><td><details class=\"dni-treeview\"><summary><span class=\"dni-code-hint\"><code>{ Id = 9glQ0SdD37yY8UE, Name = Tropical twilight, TransitionTime = , LightStates = , Lights = System.Collections.Generic.List`1[System.String] }</code></span></summary><div><table><thead><tr></tr></thead><tbody><tr><td>Id</td><td><div class=\"dni-plaintext\"><pre>9glQ0SdD37yY8UE</pre></div></td></tr><tr><td>Name</td><td><div class=\"dni-plaintext\"><pre>Tropical twilight</pre></div></td></tr><tr><td>TransitionTime</td><td><div class=\"dni-plaintext\"><pre>&lt;null&gt;</pre></div></td></tr><tr><td>LightStates</td><td><div class=\"dni-plaintext\"><pre>&lt;null&gt;</pre></div></td></tr><tr><td>Lights</td><td><div class=\"dni-plaintext\"><pre>[ 3, 5 ]</pre></div></td></tr></tbody></table></div></details></td></tr><tr><td>13</td><td><details class=\"dni-treeview\"><summary><span class=\"dni-code-hint\"><code>{ Id = NqXDLptg2N6maLE, Name = Spring blossom, TransitionTime = , LightStates = , Lights = System.Collections.Generic.List`1[System.String] }</code></span></summary><div><table><thead><tr></tr></thead><tbody><tr><td>Id</td><td><div class=\"dni-plaintext\"><pre>NqXDLptg2N6maLE</pre></div></td></tr><tr><td>Name</td><td><div class=\"dni-plaintext\"><pre>Spring blossom</pre></div></td></tr><tr><td>TransitionTime</td><td><div class=\"dni-plaintext\"><pre>&lt;null&gt;</pre></div></td></tr><tr><td>LightStates</td><td><div class=\"dni-plaintext\"><pre>&lt;null&gt;</pre></div></td></tr><tr><td>Lights</td><td><div class=\"dni-plaintext\"><pre>[ 3, 5 ]</pre></div></td></tr></tbody></table></div></details></td></tr><tr><td>14</td><td><details class=\"dni-treeview\"><summary><span class=\"dni-code-hint\"><code>{ Id = qJEDMjyXKwQEtxv, Name = Relax, TransitionTime = , LightStates = , Lights = System.Collections.Generic.List`1[System.String] }</code></span></summary><div><table><thead><tr></tr></thead><tbody><tr><td>Id</td><td><div class=\"dni-plaintext\"><pre>qJEDMjyXKwQEtxv</pre></div></td></tr><tr><td>Name</td><td><div class=\"dni-plaintext\"><pre>Relax</pre></div></td></tr><tr><td>TransitionTime</td><td><div class=\"dni-plaintext\"><pre>&lt;null&gt;</pre></div></td></tr><tr><td>LightStates</td><td><div class=\"dni-plaintext\"><pre>&lt;null&gt;</pre></div></td></tr><tr><td>Lights</td><td><div class=\"dni-plaintext\"><pre>[ 3, 5 ]</pre></div></td></tr></tbody></table></div></details></td></tr><tr><td>15</td><td><details class=\"dni-treeview\"><summary><span class=\"dni-code-hint\"><code>{ Id = 3l3sovzJH4Rz2vd, Name = Read, TransitionTime = , LightStates = , Lights = System.Collections.Generic.List`1[System.String] }</code></span></summary><div><table><thead><tr></tr></thead><tbody><tr><td>Id</td><td><div class=\"dni-plaintext\"><pre>3l3sovzJH4Rz2vd</pre></div></td></tr><tr><td>Name</td><td><div class=\"dni-plaintext\"><pre>Read</pre></div></td></tr><tr><td>TransitionTime</td><td><div class=\"dni-plaintext\"><pre>&lt;null&gt;</pre></div></td></tr><tr><td>LightStates</td><td><div class=\"dni-plaintext\"><pre>&lt;null&gt;</pre></div></td></tr><tr><td>Lights</td><td><div class=\"dni-plaintext\"><pre>[ 3, 5 ]</pre></div></td></tr></tbody></table></div></details></td></tr><tr><td>16</td><td><details class=\"dni-treeview\"><summary><span class=\"dni-code-hint\"><code>{ Id = XMA-9ODvGuaZrl-, Name = Concentrate, TransitionTime = , LightStates = , Lights = System.Collections.Generic.List`1[System.String] }</code></span></summary><div><table><thead><tr></tr></thead><tbody><tr><td>Id</td><td><div class=\"dni-plaintext\"><pre>XMA-9ODvGuaZrl-</pre></div></td></tr><tr><td>Name</td><td><div class=\"dni-plaintext\"><pre>Concentrate</pre></div></td></tr><tr><td>TransitionTime</td><td><div class=\"dni-plaintext\"><pre>&lt;null&gt;</pre></div></td></tr><tr><td>LightStates</td><td><div class=\"dni-plaintext\"><pre>&lt;null&gt;</pre></div></td></tr><tr><td>Lights</td><td><div class=\"dni-plaintext\"><pre>[ 3, 5 ]</pre></div></td></tr></tbody></table></div></details></td></tr><tr><td>17</td><td><details class=\"dni-treeview\"><summary><span class=\"dni-code-hint\"><code>{ Id = SCOe6laXM8nQ2XD, Name = Bright, TransitionTime = , LightStates = , Lights = System.Collections.Generic.List`1[System.String] }</code></span></summary><div><table><thead><tr></tr></thead><tbody><tr><td>Id</td><td><div class=\"dni-plaintext\"><pre>SCOe6laXM8nQ2XD</pre></div></td></tr><tr><td>Name</td><td><div class=\"dni-plaintext\"><pre>Bright</pre></div></td></tr><tr><td>TransitionTime</td><td><div class=\"dni-plaintext\"><pre>&lt;null&gt;</pre></div></td></tr><tr><td>LightStates</td><td><div class=\"dni-plaintext\"><pre>&lt;null&gt;</pre></div></td></tr><tr><td>Lights</td><td><div class=\"dni-plaintext\"><pre>[ 6, 7 ]</pre></div></td></tr></tbody></table></div></details></td></tr><tr><td>18</td><td><details class=\"dni-treeview\"><summary><span class=\"dni-code-hint\"><code>{ Id = TOBdp7yM2cZUeYV, Name = Dimmed, TransitionTime = , LightStates = , Lights = System.Collections.Generic.List`1[System.String] }</code></span></summary><div><table><thead><tr></tr></thead><tbody><tr><td>Id</td><td><div class=\"dni-plaintext\"><pre>TOBdp7yM2cZUeYV</pre></div></td></tr><tr><td>Name</td><td><div class=\"dni-plaintext\"><pre>Dimmed</pre></div></td></tr><tr><td>TransitionTime</td><td><div class=\"dni-plaintext\"><pre>&lt;null&gt;</pre></div></td></tr><tr><td>LightStates</td><td><div class=\"dni-plaintext\"><pre>&lt;null&gt;</pre></div></td></tr><tr><td>Lights</td><td><div class=\"dni-plaintext\"><pre>[ 3, 5 ]</pre></div></td></tr></tbody></table></div></details></td></tr><tr><td>19</td><td><details class=\"dni-treeview\"><summary><span class=\"dni-code-hint\"><code>{ Id = SdO5tb8BefISctW, Name = Nightlight, TransitionTime = , LightStates = , Lights = System.Collections.Generic.List`1[System.String] }</code></span></summary><div><table><thead><tr></tr></thead><tbody><tr><td>Id</td><td><div class=\"dni-plaintext\"><pre>SdO5tb8BefISctW</pre></div></td></tr><tr><td>Name</td><td><div class=\"dni-plaintext\"><pre>Nightlight</pre></div></td></tr><tr><td>TransitionTime</td><td><div class=\"dni-plaintext\"><pre>&lt;null&gt;</pre></div></td></tr><tr><td>LightStates</td><td><div class=\"dni-plaintext\"><pre>&lt;null&gt;</pre></div></td></tr><tr><td>Lights</td><td><div class=\"dni-plaintext\"><pre>[ 3, 5 ]</pre></div></td></tr></tbody></table></div></details></td></tr><tr><td colspan=\"2\"><i>... (more)</i></td></tr></tbody></table><style>\r\n",
       ".dni-code-hint {\r\n",
       "    font-style: italic;\r\n",
       "    overflow: hidden;\r\n",
       "    white-space: nowrap;\r\n",
       "}\r\n",
       ".dni-treeview {\r\n",
       "    white-space: nowrap;\r\n",
       "}\r\n",
       ".dni-treeview td {\r\n",
       "    vertical-align: top;\r\n",
       "    text-align: start;\r\n",
       "}\r\n",
       "details.dni-treeview {\r\n",
       "    padding-left: 1em;\r\n",
       "}\r\n",
       "table td {\r\n",
       "    text-align: start;\r\n",
       "}\r\n",
       "table tr { \r\n",
       "    vertical-align: top; \r\n",
       "    margin: 0em 0px;\r\n",
       "}\r\n",
       "table tr td pre \r\n",
       "{ \r\n",
       "    vertical-align: top !important; \r\n",
       "    margin: 0em 0px !important;\r\n",
       "} \r\n",
       "table th {\r\n",
       "    text-align: start;\r\n",
       "}\r\n",
       "</style>"
      ]
     },
     "metadata": {},
     "output_type": "display_data"
    }
   ],
   "source": [
    "\tvar result = await client.GetScenesAsync();\n",
    "\tvar scenes = result.Select(s => new {\n",
    "    s.Id, s.Name, s.TransitionTime, s.LightStates, s.Lights\n",
    "});\n",
    "\n",
    "scenes"
   ]
  }
 ],
 "metadata": {
  "kernelspec": {
   "display_name": ".NET (C#)",
   "language": "C#",
   "name": ".net-csharp"
  },
  "language_info": {
   "name": "polyglot-notebook"
  },
  "polyglot_notebook": {
   "kernelInfo": {
    "defaultKernelName": "csharp",
    "items": [
     {
      "aliases": [],
      "name": "csharp"
     }
    ]
   }
  }
 },
 "nbformat": 4,
 "nbformat_minor": 2
}
